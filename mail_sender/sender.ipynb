{
 "cells": [
  {
   "cell_type": "code",
   "execution_count": 1,
   "id": "b670537c-949f-413e-88ce-6df0e72d25ad",
   "metadata": {},
   "outputs": [
    {
     "name": "stdout",
     "output_type": "stream",
     "text": [
      "/home/asa/miniconda3/envs/TensorFlow-Development/bin/python\n"
     ]
    }
   ],
   "source": [
    "!which python"
   ]
  },
  {
   "cell_type": "code",
   "execution_count": 6,
   "id": "eb76fc97-8f73-4abc-8c6e-205b8f249f74",
   "metadata": {},
   "outputs": [],
   "source": [
    "# Importing the packages\n",
    "import smtplib\n",
    "from email.mime.multipart import MIMEMultipart\n",
    "from email.mime.text import MIMEText"
   ]
  },
  {
   "cell_type": "code",
   "execution_count": 7,
   "id": "48a7845b-c932-4e89-8993-40f481d454a1",
   "metadata": {},
   "outputs": [],
   "source": [
    "# Email configuration\n",
    "smtp_server = 'smtp.gmail.com'\n",
    "smtp_port = 587\n",
    "smtp_user = 'akileshas.aiml2023@citchennai.net'\n",
    "smtp_password = ''\n",
    "recipient_email = 'asakilesh8@gmail.com'"
   ]
  },
  {
   "cell_type": "code",
   "execution_count": 8,
   "id": "37924017-3257-43d4-8856-e0c28f7970aa",
   "metadata": {},
   "outputs": [],
   "source": [
    "# Create the email content\n",
    "subject = \"Confirmation of Complaint Receipt\"\n",
    "body = \"\"\"\n",
    "Dear [Recipient's Name],\n",
    "\n",
    "Thank you for your recent communication. This email is to confirm that we have received your complaint regarding [specific issue or subject of the complaint].\n",
    "\n",
    "We appreciate you bringing this matter to our attention. Our team will thoroughly review the details provided and take appropriate action. We are committed to addressing genuine issues with accuracy and ensuring they are resolved with the appropriate level of urgency and severity.\n",
    "\n",
    "If you have any further information to add or questions regarding the complaint, please feel free to reply to this email.\n",
    "\n",
    "Thank you for your patience and understanding.\n",
    "\n",
    "Best regards,\n",
    "\n",
    "[Your Full Name]\n",
    "[Your Position]\n",
    "[Your Contact Information]\n",
    "[Company/Organization Name]\n",
    "\"\"\""
   ]
  },
  {
   "cell_type": "code",
   "execution_count": 9,
   "id": "afea3316-6136-4300-bbf7-9185381f4c7c",
   "metadata": {},
   "outputs": [],
   "source": [
    "# Create the email message\n",
    "msg = MIMEMultipart()\n",
    "msg['From'] = smtp_user\n",
    "msg['To'] = recipient_email\n",
    "msg['Subject'] = subject\n",
    "msg.attach(MIMEText(body, 'plain'))"
   ]
  },
  {
   "cell_type": "code",
   "execution_count": 10,
   "id": "2cc7c3f6-b9a7-49e1-8f8c-740098535b11",
   "metadata": {},
   "outputs": [
    {
     "name": "stdout",
     "output_type": "stream",
     "text": [
      "Email sent successfully!\n"
     ]
    }
   ],
   "source": [
    "# Send the email\n",
    "try:\n",
    "    with smtplib.SMTP(smtp_server, smtp_port) as server:\n",
    "        server.starttls()  # Upgrade the connection to a secure encrypted SSL/TLS connection\n",
    "        server.login(smtp_user, smtp_password)\n",
    "        server.sendmail(smtp_user, recipient_email, msg.as_string())\n",
    "    print(\"Email sent successfully!\")\n",
    "except Exception as e:\n",
    "    print(f\"Failed to send email: {e}\")"
   ]
  }
 ],
 "metadata": {
  "kernelspec": {
   "display_name": "Python 3 (ipykernel)",
   "language": "python",
   "name": "python3"
  },
  "language_info": {
   "codemirror_mode": {
    "name": "ipython",
    "version": 3
   },
   "file_extension": ".py",
   "mimetype": "text/x-python",
   "name": "python",
   "nbconvert_exporter": "python",
   "pygments_lexer": "ipython3",
   "version": "3.10.14"
  }
 },
 "nbformat": 4,
 "nbformat_minor": 5
}
